{
 "cells": [
  {
   "cell_type": "code",
   "execution_count": 31,
   "metadata": {
    "ExecuteTime": {
     "end_time": "2021-12-15T17:06:09.175700Z",
     "start_time": "2021-12-15T17:06:08.244559Z"
    }
   },
   "outputs": [],
   "source": [
    "import numpy as np\n",
    "import matplotlib .pyplot as plt\n",
    "import matplotlib.cm as cm\n",
    "from matplotlib import style\n",
    "from matplotlib_scalebar.scalebar import ScaleBar\n",
    "import tifffile\n",
    "from skimage.transform import resize"
   ]
  },
  {
   "cell_type": "code",
   "execution_count": 32,
   "metadata": {
    "ExecuteTime": {
     "end_time": "2021-12-15T17:06:09.237007Z",
     "start_time": "2021-12-15T17:06:09.224550Z"
    }
   },
   "outputs": [],
   "source": [
    "def crop_images(img, edge_length, stride, target_path, target_size = None):\n",
    "    M=N= edge_length\n",
    "    I_inc = J_inc = stride\n",
    "    \n",
    "    count = 0\n",
    "    for i in tqdm(range(0, img.shape[0], I_inc)):\n",
    "        for j in range(0, img.shape[1], J_inc):\n",
    "\n",
    "            if len(img.shape) == 3:# check if the image is color image , channels = 3\n",
    "                subset = img[i:i+N, j:j+N, :]\n",
    "                if subset.shape == (N, M, 3):\n",
    "                    tifffile.imsave(target_path + 'crop' +\"_\"+str(count)+ '.tif', subset)\n",
    "                    count += 1\n",
    "    \n",
    "                \n",
    "            elif len(img.shape) == 2:\n",
    "                subset = img[i:i+N, j:j+N]\n",
    "                if subset.shape == (N, M):\n",
    "                    resized_subset = subset.astype('uint8')\n",
    "                    if target_size is not None:\n",
    "                        resized_subset = (resize(subset, (target_size, target_size), mode= 'constant', preserve_range= True,\n",
    "                      anti_aliasing= True, anti_aliasing_sigma= False))\n",
    "                        \n",
    "                        # sometimes resizing creates artifacts and intermediate values between 0 and 255\n",
    "                        resized_subset =  np.where(resized_subset > 0, 255, 0).astype('uint8')\n",
    "                        \n",
    "                        \n",
    "                    tifffile.imsave(target_path + 'crop' +\"_\"+str(count)+ '.tif', resized_subset)\n",
    "                    count += 1\n",
    "    print(f'Number of cropped images= {count}')"
   ]
  },
  {
   "cell_type": "code",
   "execution_count": 33,
   "metadata": {
    "ExecuteTime": {
     "end_time": "2021-12-15T17:06:09.548212Z",
     "start_time": "2021-12-15T17:06:09.533537Z"
    }
   },
   "outputs": [],
   "source": [
    "import os"
   ]
  },
  {
   "cell_type": "code",
   "execution_count": 34,
   "metadata": {
    "ExecuteTime": {
     "end_time": "2021-12-15T17:06:10.429336Z",
     "start_time": "2021-12-15T17:06:10.419794Z"
    }
   },
   "outputs": [],
   "source": [
    "folder_path = r'C:\\Users\\tohan\\OneDrive\\Desktop\\opt/'\n",
    "list_images =os.listdir(r'C:\\Users\\tohan\\OneDrive\\Desktop\\opt/')"
   ]
  },
  {
   "cell_type": "code",
   "execution_count": 35,
   "metadata": {
    "ExecuteTime": {
     "end_time": "2021-12-15T17:06:11.533545Z",
     "start_time": "2021-12-15T17:06:11.513664Z"
    },
    "scrolled": false
   },
   "outputs": [
    {
     "data": {
      "text/plain": [
       "'C:\\\\Users\\\\tohan\\\\OneDrive\\\\Desktop\\\\opt/87_Z22_06_Matching_REsegmented_opt_CLAY.tif'"
      ]
     },
     "execution_count": 35,
     "metadata": {},
     "output_type": "execute_result"
    }
   ],
   "source": [
    "folder_path + list_images[0]"
   ]
  },
  {
   "cell_type": "code",
   "execution_count": 40,
   "metadata": {
    "ExecuteTime": {
     "end_time": "2021-12-15T17:08:15.230740Z",
     "start_time": "2021-12-15T17:08:15.207227Z"
    },
    "scrolled": true
   },
   "outputs": [
    {
     "data": {
      "text/plain": [
       "['87_Z22_06_Matching_REsegmented_opt_CLAY.tif',\n",
       " '87_Z22_09_Matching_REsegmented_opt_CLAY.tif',\n",
       " '87_Z22_12_Matching_REsegmented_opt_CLAY.tif',\n",
       " '87_Z22_15_Matching_REsegmented_opt_CLAY.tif',\n",
       " '87_Z22_16_Matching_REsegmented_opt_CLAY.tif',\n",
       " '87_Z22_17_Matching_REsegmented_opt_CLAY.tif',\n",
       " '87_Z22_18_Matching_REsegmented_opt_CLAY.tif',\n",
       " '87_Z22_20_Matching_REsegmented_opt_CLAY.tif']"
      ]
     },
     "execution_count": 40,
     "metadata": {},
     "output_type": "execute_result"
    }
   ],
   "source": [
    "list_images"
   ]
  },
  {
   "cell_type": "code",
   "execution_count": 36,
   "metadata": {
    "ExecuteTime": {
     "end_time": "2021-12-15T17:06:12.505228Z",
     "start_time": "2021-12-15T17:06:12.353857Z"
    }
   },
   "outputs": [],
   "source": [
    "\n",
    "stack_image = np.zeros((9, 920, 920))\n",
    "for idx, file in enumerate(list_images):\n",
    "#     print(idx, img.shape)\n",
    "    img = tifffile.imread(folder_path + list_images[idx])[0:920, 0:920]\n",
    "    stack_image[idx] = img\n",
    "    "
   ]
  },
  {
   "cell_type": "code",
   "execution_count": 37,
   "metadata": {
    "ExecuteTime": {
     "end_time": "2021-12-15T17:06:14.024799Z",
     "start_time": "2021-12-15T17:06:14.014738Z"
    }
   },
   "outputs": [
    {
     "data": {
      "text/plain": [
       "(9, 920, 920)"
      ]
     },
     "execution_count": 37,
     "metadata": {},
     "output_type": "execute_result"
    }
   ],
   "source": [
    "stack_image.shape"
   ]
  },
  {
   "cell_type": "code",
   "execution_count": 39,
   "metadata": {
    "ExecuteTime": {
     "end_time": "2021-12-15T17:06:32.865432Z",
     "start_time": "2021-12-15T17:06:32.564912Z"
    }
   },
   "outputs": [
    {
     "data": {
      "image/png": "[encoded data removed]",
      "text/plain": [
       "<Figure size 432x288 with 1 Axes>"
      ]
     },
     "metadata": {
      "needs_background": "light"
     },
     "output_type": "display_data"
    }
   ],
   "source": [
    "plt.figure()\n",
    "plt.imshow(stack_image[4], cmap = 'gray')\n",
    "plt.show()"
   ]
  },
  {
   "cell_type": "code",
   "execution_count": 6,
   "metadata": {
    "ExecuteTime": {
     "end_time": "2021-12-15T16:51:20.875735Z",
     "start_time": "2021-12-15T16:51:20.794702Z"
    }
   },
   "outputs": [
    {
     "ename": "ValueError",
     "evalue": "could not broadcast input array from shape (1054,1538) into shape (1028,1956)",
     "output_type": "error",
     "traceback": [
      "\u001b[1;31m---------------------------------------------------------------------------\u001b[0m",
      "\u001b[1;31mValueError\u001b[0m                                Traceback (most recent call last)",
      "\u001b[1;32m<ipython-input-6-b00ebb7629c9>\u001b[0m in \u001b[0;36m<module>\u001b[1;34m\u001b[0m\n\u001b[1;32m----> 1\u001b[1;33m \u001b[0mimg\u001b[0m \u001b[1;33m=\u001b[0m \u001b[0mtifffile\u001b[0m\u001b[1;33m.\u001b[0m\u001b[0mimread\u001b[0m\u001b[1;33m(\u001b[0m\u001b[1;34mr'C:\\Users\\tohan\\OneDrive\\Desktop\\opt/*.tif'\u001b[0m\u001b[1;33m)\u001b[0m\u001b[1;33m\u001b[0m\u001b[1;33m\u001b[0m\u001b[0m\n\u001b[0m",
      "\u001b[1;32m~\\anaconda\\lib\\site-packages\\tifffile\\tifffile.py\u001b[0m in \u001b[0;36mimread\u001b[1;34m(files, aszarr, **kwargs)\u001b[0m\n\u001b[0;32m    787\u001b[0m         \u001b[1;32mif\u001b[0m \u001b[0maszarr\u001b[0m\u001b[1;33m:\u001b[0m\u001b[1;33m\u001b[0m\u001b[1;33m\u001b[0m\u001b[0m\n\u001b[0;32m    788\u001b[0m             \u001b[1;32mreturn\u001b[0m \u001b[0mimseq\u001b[0m\u001b[1;33m.\u001b[0m\u001b[0maszarr\u001b[0m\u001b[1;33m(\u001b[0m\u001b[1;33m**\u001b[0m\u001b[0mkwargs\u001b[0m\u001b[1;33m,\u001b[0m \u001b[1;33m**\u001b[0m\u001b[0mkwargs_file\u001b[0m\u001b[1;33m)\u001b[0m\u001b[1;33m\u001b[0m\u001b[1;33m\u001b[0m\u001b[0m\n\u001b[1;32m--> 789\u001b[1;33m         \u001b[1;32mreturn\u001b[0m \u001b[0mimseq\u001b[0m\u001b[1;33m.\u001b[0m\u001b[0masarray\u001b[0m\u001b[1;33m(\u001b[0m\u001b[1;33m**\u001b[0m\u001b[0mkwargs\u001b[0m\u001b[1;33m,\u001b[0m \u001b[1;33m**\u001b[0m\u001b[0mkwargs_file\u001b[0m\u001b[1;33m)\u001b[0m\u001b[1;33m\u001b[0m\u001b[1;33m\u001b[0m\u001b[0m\n\u001b[0m\u001b[0;32m    790\u001b[0m \u001b[1;33m\u001b[0m\u001b[0m\n\u001b[0;32m    791\u001b[0m \u001b[1;33m\u001b[0m\u001b[0m\n",
      "\u001b[1;32m~\\anaconda\\lib\\site-packages\\tifffile\\tifffile.py\u001b[0m in \u001b[0;36masarray\u001b[1;34m(self, file, ioworkers, out, **kwargs)\u001b[0m\n\u001b[0;32m   9096\u001b[0m         \u001b[1;32mif\u001b[0m \u001b[0mioworkers\u001b[0m \u001b[1;33m<\u001b[0m \u001b[1;36m2\u001b[0m\u001b[1;33m:\u001b[0m\u001b[1;33m\u001b[0m\u001b[1;33m\u001b[0m\u001b[0m\n\u001b[0;32m   9097\u001b[0m             \u001b[1;32mfor\u001b[0m \u001b[0mindex\u001b[0m\u001b[1;33m,\u001b[0m \u001b[0mfname\u001b[0m \u001b[1;32min\u001b[0m \u001b[0mzip\u001b[0m\u001b[1;33m(\u001b[0m\u001b[0mself\u001b[0m\u001b[1;33m.\u001b[0m\u001b[0mindices\u001b[0m\u001b[1;33m,\u001b[0m \u001b[0mself\u001b[0m\u001b[1;33m.\u001b[0m\u001b[0mfiles\u001b[0m\u001b[1;33m)\u001b[0m\u001b[1;33m:\u001b[0m\u001b[1;33m\u001b[0m\u001b[1;33m\u001b[0m\u001b[0m\n\u001b[1;32m-> 9098\u001b[1;33m                 \u001b[0mfunc\u001b[0m\u001b[1;33m(\u001b[0m\u001b[0mindex\u001b[0m\u001b[1;33m,\u001b[0m \u001b[0mfname\u001b[0m\u001b[1;33m)\u001b[0m\u001b[1;33m\u001b[0m\u001b[1;33m\u001b[0m\u001b[0m\n\u001b[0m\u001b[0;32m   9099\u001b[0m         \u001b[1;32melse\u001b[0m\u001b[1;33m:\u001b[0m\u001b[1;33m\u001b[0m\u001b[1;33m\u001b[0m\u001b[0m\n\u001b[0;32m   9100\u001b[0m             \u001b[1;32mwith\u001b[0m \u001b[0mThreadPoolExecutor\u001b[0m\u001b[1;33m(\u001b[0m\u001b[0mioworkers\u001b[0m\u001b[1;33m)\u001b[0m \u001b[1;32mas\u001b[0m \u001b[0mexecutor\u001b[0m\u001b[1;33m:\u001b[0m\u001b[1;33m\u001b[0m\u001b[1;33m\u001b[0m\u001b[0m\n",
      "\u001b[1;32m~\\anaconda\\lib\\site-packages\\tifffile\\tifffile.py\u001b[0m in \u001b[0;36mfunc\u001b[1;34m(index, fname)\u001b[0m\n\u001b[0;32m   9085\u001b[0m             \u001b[0mindex\u001b[0m \u001b[1;33m=\u001b[0m \u001b[0mint\u001b[0m\u001b[1;33m(\u001b[0m\u001b[0mnumpy\u001b[0m\u001b[1;33m.\u001b[0m\u001b[0mravel_multi_index\u001b[0m\u001b[1;33m(\u001b[0m\u001b[0mindex\u001b[0m\u001b[1;33m,\u001b[0m \u001b[0mself\u001b[0m\u001b[1;33m.\u001b[0m\u001b[0mshape\u001b[0m\u001b[1;33m)\u001b[0m\u001b[1;33m)\u001b[0m\u001b[1;33m\u001b[0m\u001b[1;33m\u001b[0m\u001b[0m\n\u001b[0;32m   9086\u001b[0m             \u001b[0mim\u001b[0m \u001b[1;33m=\u001b[0m \u001b[0mself\u001b[0m\u001b[1;33m.\u001b[0m\u001b[0mimread\u001b[0m\u001b[1;33m(\u001b[0m\u001b[0mfname\u001b[0m\u001b[1;33m,\u001b[0m \u001b[1;33m**\u001b[0m\u001b[0mkwargs\u001b[0m\u001b[1;33m)\u001b[0m\u001b[1;33m\u001b[0m\u001b[1;33m\u001b[0m\u001b[0m\n\u001b[1;32m-> 9087\u001b[1;33m             \u001b[0mresult\u001b[0m\u001b[1;33m[\u001b[0m\u001b[0mindex\u001b[0m\u001b[1;33m]\u001b[0m \u001b[1;33m=\u001b[0m \u001b[0mim\u001b[0m\u001b[1;33m\u001b[0m\u001b[1;33m\u001b[0m\u001b[0m\n\u001b[0m\u001b[0;32m   9088\u001b[0m \u001b[1;33m\u001b[0m\u001b[0m\n\u001b[0;32m   9089\u001b[0m         \u001b[1;32mif\u001b[0m \u001b[0mlen\u001b[0m\u001b[1;33m(\u001b[0m\u001b[0mself\u001b[0m\u001b[1;33m.\u001b[0m\u001b[0mfiles\u001b[0m\u001b[1;33m)\u001b[0m \u001b[1;33m<\u001b[0m \u001b[1;36m2\u001b[0m\u001b[1;33m:\u001b[0m\u001b[1;33m\u001b[0m\u001b[1;33m\u001b[0m\u001b[0m\n",
      "\u001b[1;31mValueError\u001b[0m: could not broadcast input array from shape (1054,1538) into shape (1028,1956)"
     ]
    }
   ],
   "source": [
    "img = tifffile.imread(r'C:\\Users\\tohan\\OneDrive\\Desktop\\opt/*.tif')\n"
   ]
  },
  {
   "cell_type": "code",
   "execution_count": null,
   "metadata": {},
   "outputs": [],
   "source": [
    "img.shape"
   ]
  },
  {
   "cell_type": "code",
   "execution_count": null,
   "metadata": {},
   "outputs": [],
   "source": [
    "# target_path = r'D:\\Hamed\\Serpentinite\\ROR-09\\ROR-09-2_978522106\\largeImage\\Upper_part\\GAN_1024_Resized_128\\resized_128\\training_images/'\n",
    "target_path = r'D:\\Hamed\\Serpentinite\\ROR-09\\ROR-09-2_978522106\\largeImage\\Upper_part\\GAN_1024_Resized_128\\original_1024/'\n",
    "\n",
    "crop_images(img, edge_length= 920, stride= 920, target_path= target_path, target_size= None)"
   ]
  }
 ],
 "metadata": {
  "kernelspec": {
   "display_name": "Python 3",
   "language": "python",
   "name": "python3"
  },
  "language_info": {
   "codemirror_mode": {
    "name": "ipython",
    "version": 3
   },
   "file_extension": ".py",
   "mimetype": "text/x-python",
   "name": "python",
   "nbconvert_exporter": "python",
   "pygments_lexer": "ipython3",
   "version": "3.8.8"
  },
  "toc": {
   "base_numbering": 1,
   "nav_menu": {},
   "number_sections": true,
   "sideBar": true,
   "skip_h1_title": false,
   "title_cell": "Table of Contents",
   "title_sidebar": "Contents",
   "toc_cell": false,
   "toc_position": {},
   "toc_section_display": true,
   "toc_window_display": false
  },
  "varInspector": {
   "cols": {
    "lenName": 16,
    "lenType": 16,
    "lenVar": 40
   },
   "kernels_config": {
    "python": {
     "delete_cmd_postfix": "",
     "delete_cmd_prefix": "del ",
     "library": "var_list.py",
     "varRefreshCmd": "print(var_dic_list())"
    },
    "r": {
     "delete_cmd_postfix": ") ",
     "delete_cmd_prefix": "rm(",
     "library": "var_list.r",
     "varRefreshCmd": "cat(var_dic_list()) "
    }
   },
   "types_to_exclude": [
    "module",
    "function",
    "builtin_function_or_method",
    "instance",
    "_Feature"
   ],
   "window_display": false
  }
 },
 "nbformat": 4,
 "nbformat_minor": 4
}
